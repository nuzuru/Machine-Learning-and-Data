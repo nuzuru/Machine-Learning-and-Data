{
 "cells": [
  {
   "cell_type": "markdown",
   "metadata": {},
   "source": [
    "#### Identitas:"
   ]
  },
  {
   "cell_type": "code",
   "execution_count": null,
   "metadata": {},
   "outputs": [],
   "source": [
    "print('NAMA:')\n",
    "print('Mohamad Nuzulul Firman')"
   ]
  },
  {
   "cell_type": "markdown",
   "metadata": {},
   "source": [
    "#### Lakukan instruksi di bawah ini dengan menggunakan dataset yang telah disediakan!"
   ]
  },
  {
   "cell_type": "code",
   "execution_count": null,
   "metadata": {},
   "outputs": [],
   "source": [
    "#Importing required modules\n",
    "import pandas as pd\n",
    "import numpy as np\n",
    "import matplotlib.pyplot as plt\n",
    "\n",
    "#Reading datasets\n",
    "#main dataset\n",
    "df = pd.read_csv('../data/covid.csv')\n",
    "#region and climate dataset\n",
    "df_cat = pd.read_csv('../data/covid_cat.csv')"
   ]
  },
  {
   "cell_type": "markdown",
   "metadata": {},
   "source": [
    "#### 1. Dataframe 'df' terdiri dari (a) ... columns dan (b) ... rows. Dataframe 'df' mengandung data dari (c) ... 'country' yang berbeda. Dataframe 'df' mengandung data hasil observasi selama (d) .... hari terhitung sejak tanggal (e) ... sampai tanggal (f) ..."
   ]
  },
  {
   "cell_type": "markdown",
   "metadata": {},
   "source": [
    "(a)\n",
    "<br>\n",
    "(b)\n",
    "<br>\n",
    "(c)\n",
    "<br>\n",
    "(d)\n",
    "<br>\n",
    "(e)\n",
    "<br>\n",
    "(f)"
   ]
  },
  {
   "cell_type": "code",
   "execution_count": null,
   "metadata": {},
   "outputs": [],
   "source": [
    "print(\"(a)\", df.shape[1])\n",
    "print(\"(b)\", df.shape[0])\n",
    "print(\"(c)\",df.nunique()[\"country\"])\n",
    "print(\"(d)\",(pd.to_datetime(df.date.max())-pd.to_datetime(df.date.min())).days)\n",
    "print(\"(e)\",df.date.min())\n",
    "print(\"(f)\",df.date.max())"
   ]
  },
  {
   "cell_type": "markdown",
   "metadata": {},
   "source": [
    "#### 2. Ubah beberapa data pada kolom 'country' agar tidak ada nama berbeda untuk negara yang sama dengan aturan:\n",
    "'original data','replace with this data':\n",
    "<br>\n",
    "\"('St. Martin',)\",'St. Martin'\n",
    "<br>\n",
    "' Azerbaijan','Azerbaijan'\n",
    "<br>\n",
    "'Cabo Verde','Cape Verde'\n",
    "<br>\n",
    "'Congo (Brazzaville)','Congo'\n",
    "<br>\n",
    "'Congo (Kinshasa)','Congo'\n",
    "<br>\n",
    "'North Ireland','Ireland'\n",
    "<br>\n",
    "'North Macedonia','Macedonia'\n",
    "<br>\n",
    "'occupied Palestinian territory','Palestine'\n",
    "<br>\n",
    "'Holy See','Vatican'\n",
    "<br>\n",
    "'Republic of Ireland','Ireland'\n",
    "<br>\n",
    "'The Bahamas','Bahamas'\n",
    "<br>\n",
    "'The Gambia','Gambia'\n",
    "<br>\n",
    "'Bahamas, The','Bahamas'\n",
    "<br>\n",
    "'Gambia, The','Gambia'\n",
    "<br>\n",
    "'Vatican City','Vatican'\n",
    "<br>\n",
    "'East Timor','Timor-Leste'\n",
    "<br>\n",
    "'West Bank and Gaza','Palestine'\n",
    "<br>\n",
    "'MS Zaandam','Others'\n",
    "<br>\n",
    "'Diamond Princess','Others'"
   ]
  },
  {
   "cell_type": "code",
   "execution_count": null,
   "metadata": {},
   "outputs": [],
   "source": [
    "df[\"country\"]=df[\"country\"].replace(\"('St. Martin',)\",'St. Martin')\n",
    "df[\"country\"]=df[\"country\"].replace(' Azerbaijan','Azerbaijan')\n",
    "df[\"country\"]=df[\"country\"].replace('Cabo Verde','Cape Verde')\n",
    "df[\"country\"]=df[\"country\"].replace(['Congo (Brazzaville)','Congo (Kinshasa)'],'Congo')\n",
    "df[\"country\"]=df[\"country\"].replace(['North Ireland','Republic of Ireland'],'Ireland')\n",
    "df[\"country\"]=df[\"country\"].replace('North Macedonia','Macedonia')\n",
    "df[\"country\"]=df[\"country\"].replace(['occupied Palestinian territory','West Bank and Gaza'],'Palestine')\n",
    "df[\"country\"]=df[\"country\"].replace(['Holy See','Vatican City'],'Vatican')\n",
    "df[\"country\"]=df[\"country\"].replace(['The Bahamas','Bahamas, The'],'Bahamas')\n",
    "df[\"country\"]=df[\"country\"].replace(['The Gambia','Gambia, The'],'Gambia')\n",
    "df[\"country\"]=df[\"country\"].replace('East Timor','Timor-Leste')\n",
    "df[\"country\"]=df[\"country\"].replace(['MS Zaandam','Diamond Princess'],'Others')\n"
   ]
  },
  {
   "cell_type": "markdown",
   "metadata": {},
   "source": [
    "#### 3. a. Beberapa 'country' pada dataframe 'df' data hariannya dibagi menjadi beberapa 'province'. Akumulasikan data 'confirmed','deaths', dan 'recovered' provinsi-provinsi ini sehingga data harian tiap negara hanya diwakili oleh 1 row dengan membuat dataframe baru 'df_new'.\n",
    "#### b. Tambahkan kolom 'region' dan 'climate' pada 'df_new' dan isi dengan region dan climate untuk tiap negara dengan mengacu pada 'df_cat'\n",
    "#### c. Filter 'df_new' sehingga hanya di include data tanggal 1 Maret 2020 - 13 Desember 2020. Drop semua row pada 'df_new' yang data 'confirmed'-nya di bawah 100. Drop semua row yang data 'region' atau 'climate'-nya NaN pada 'df_new'.\n",
    "#### d. Buat line plot berdasarkan dataframe 'df_new' dengan data 'date' sebagai x dan data 'confirmed' sebagai y, di mana tiap garis mewakili data total (bukan rata-rata) 1 region.\n",
    "#### e. Buat line plot berdasarkan dataframe 'df_new' dengan data 'date' sebagai x dan data 'confirmed' sebagai y, di mana tiap garis mewakili data total (bukan rata-rata) 1 kelompok iklim."
   ]
  },
  {
   "cell_type": "code",
   "execution_count": null,
   "metadata": {},
   "outputs": [],
   "source": [
    "print(\"a.\")\n",
    "df_new=df.groupby(['country','date']).sum().reset_index()\n",
    "print(\"b.\")\n",
    "df_new = pd.merge(df_new, df_cat, on=['country'], how='left')\n",
    "print(\"c.\")\n",
    "df_new.dropna(subset = [\"region\",\"climate\"], inplace=True)\n",
    "for x in df_new.index:\n",
    "    if (df_new.loc[x,'confirmed']<100) or (pd.to_datetime(df_new.loc[x,'date']) < pd.to_datetime('2020/03/1')) or (pd.to_datetime(df_new.loc[x,'date']) > pd.to_datetime('2020/12/13')):\n",
    "        df_new.drop(x,inplace=True)\n"
   ]
  },
  {
   "cell_type": "code",
   "execution_count": null,
   "metadata": {},
   "outputs": [],
   "source": [
    "print(\"d.\")\n",
    "fig, ax = plt.subplots()\n",
    "for key, grp in df_new.groupby('region'):\n",
    "    grp.plot(x = \"date\", y = 'confirmed',ax = ax, label = key)\n",
    "print(\"e.\")\n",
    "fig, ax = plt.subplots()\n",
    "for key, grp in df_new.groupby('climate'):\n",
    "    grp.plot(x = \"date\", y = 'confirmed',ax = ax, label = key)\n"
   ]
  },
  {
   "cell_type": "markdown",
   "metadata": {},
   "source": [
    "#### 4.a. Buat dataframe 'df_last' yang hanya mengandung data tanggal terakhir dari 'df_new', di mana tiap row menunjukkan data 'confirmed', 'deaths', 'recovered', 'region', dan 'climate' untuk 1 negara.\n",
    "#### b. Berdasarkan df_last, identifikasi 10 negara dengan data 'deaths' tertinggi. Buat barplotnya.\n",
    "#### c. Buat beberapa kolom baru pada 'df_last': \n",
    "##### Kolom 'active_case' yang merupakan hasil perhitungan 'confirmed' dikurangi 'recovered' dan 'deaths'. \n",
    "##### Kolom 'active_case_%' yang merupakan hasil perhitungan 'active_case' dibagi 'confirmed' dikali 100. \n",
    "##### Kolom 'deaths_%' yang merupakan hasil perhitungan 'deaths' dibagi 'confirmed' dikali 100. \n",
    "##### Kolom 'recovered_%' yang merupakan hasil perhitungan 'recovered' dibagi 'confirmed' dikali 100.\n",
    "#### d. Buat scatter matrix berdassarkan 'df_last' untuk kolom 'active_case_%', 'deaths_%', dan 'recovered_%'  (bedakan warna scatter plot berdasarkan region).\n",
    "#### e. Lakukan hal yang sama dengan membedakan warna scatter plot berdasarkan iklim."
   ]
  },
  {
   "cell_type": "code",
   "execution_count": null,
   "metadata": {},
   "outputs": [],
   "source": [
    "print(\"a.\")\n",
    "df_last = df_new.sort_values('date').groupby('country').tail(1)\n",
    "\n",
    "print(\"b.\")\n",
    "df_last.nlargest(10, ['deaths']).plot('country','deaths',kind='bar')\n",
    "\n",
    "print(\"c.\")\n",
    "df_last['active_case'] = df_last['confirmed'] - df_last['recovered'] - df_last['deaths']\n",
    "df_last['active_case_%'] = df_last['active_case'] * 100 / df_last['confirmed']\n",
    "df_last['deaths_%'] = df_last['deaths'] * 100 / df_last['confirmed']\n",
    "df_last['recovered_%'] = df_last['recovered'] * 100 / df_last['confirmed']\n",
    "\n",
    "print(\"d.\")\n",
    "color_wheel_region = {\"Africa\": \"#FE1907\", \n",
    "                      \"Arab States\": \"#FBFE07\", \n",
    "                      \"Asia & Pacific\": \"#17FE07\", \n",
    "                      \"Europe\": \"#07FEFC\", \n",
    "                      \"Middle east\": \"#072FFE\", \n",
    "                      \"North America\": \"#E107FE\", \n",
    "                      \"South/Latin America\": \"#201F20\"}\n",
    "colors_region = df_last[\"region\"].map(lambda x: color_wheel_region.get(x))\n",
    "ax_region = pd.plotting.scatter_matrix(df_last[['active_case_%', 'deaths_%', 'recovered_%']], color=colors_region)\n",
    "\n",
    "print(\"e.\")\n",
    "color_wheel_climate = {\"tropic\": \"#0392cf\", \n",
    "               \"nontropic\": \"#7bc043\"}\n",
    "colors_climate = df_last[\"climate\"].map(lambda x: color_wheel_climate.get(x))\n",
    "ax_climate = pd.plotting.scatter_matrix(df_last[['active_case_%', 'deaths_%', 'recovered_%']], color=colors_climate)\n"
   ]
  },
  {
   "cell_type": "markdown",
   "metadata": {},
   "source": [
    "#### 5. a.  Dengan asumsi syarat melakukan tes Pearson terpenuhi, lakukan tes Pearson untuk menguji adanya hubungan linear antara data 'active_case_%', 'deaths_%', dan 'recovered_%'. Buatlah heatmapnya.\n",
    "#### b. Carilah p-value dari koefisiensi korelasi yang telah didapatkan. Tuliskan kesimpulannya."
   ]
  },
  {
   "cell_type": "code",
   "execution_count": null,
   "metadata": {},
   "outputs": [],
   "source": [
    "print(\"a.\")\n",
    "pearsonCorr = df_last[['active_case_%', 'deaths_%', 'recovered_%']].corr(method='pearson')\n",
    "print(pearsonCorr)\n",
    "pearsonCorr.style.background_gradient(cmap='Reds')\n",
    "\n"
   ]
  },
  {
   "cell_type": "code",
   "execution_count": null,
   "metadata": {},
   "outputs": [],
   "source": [
    "print(\"b.\")\n",
    "from scipy.stats import pearsonr\n",
    "def pearsonr_pval(x,y):\n",
    "    return pearsonr(x,y)[1]\n",
    "\n",
    "print(df_last[['active_case_%', 'deaths_%', 'recovered_%']].corr(method=pearsonr_pval))\n",
    "print(\"kesimpulan :\")\n",
    "print(\"Dengan membandingkan p-value dengan alpha = 0.05\")\n",
    "print(\"Pada active_case dan recovered memiliki hubungan korelasi linear yang negatif dan hubungannya signifikan\")\n",
    "print(\"Pada data antara active_case dan deaths, korelasi antara kedua data positif linier yang tidak kuat dan tidak ada signifikansi antara kedua data\")\n",
    "print(\"Pada data antara deaths dan recovered, korelasi antara kedua data negatif linier yang tidak kuat dan tidak ada signifikansi antara kedua data\")"
   ]
  },
  {
   "cell_type": "markdown",
   "metadata": {},
   "source": [
    "#### 6. Dengan asumsi syarat melakukan tes ANOVA terpenuhi, lakukan ANOVA untuk menguji adanya hubungan antara region dan data 'active_case_%', 'deaths_%', dan 'recovered_%' (3 TES ANOVA YANG BERBEDA) pada 'df_last'. Tuliskan kesimpulan dari hasil tesnya."
   ]
  },
  {
   "cell_type": "code",
   "execution_count": null,
   "metadata": {},
   "outputs": [],
   "source": [
    "import scipy.stats as ss\n",
    "dfn_val = df_last.nunique()[\"region\"] - 1\n",
    "dfd_val = len(df_last) - df_last.nunique()[\"region\"]\n",
    "print('F table: {:.3f}'.format(ss.f.ppf(q=1-0.05, dfn=dfn_val, dfd=dfd_val)))\n",
    "\n",
    "#Tes ANOVA active_case_%\n",
    "gb = df_last.groupby(\"region\")\n",
    "f_val_ac, p_val_ac = ss.f_oneway(gb[[\"active_case_%\"]].get_group(\"Africa\")\n",
    "                           ,gb[[\"active_case_%\"]].get_group(\"Arab States\")\n",
    "                           ,gb[[\"active_case_%\"]].get_group(\"Asia & Pacific\")\n",
    "                           ,gb[[\"active_case_%\"]].get_group(\"Europe\")\n",
    "                           ,gb[[\"active_case_%\"]].get_group(\"Middle east\")\n",
    "                           ,gb[[\"active_case_%\"]].get_group(\"North America\")\n",
    "                           ,gb[[\"active_case_%\"]].get_group(\"South/Latin America\"))\n",
    "print('F value for active case: {:.3f}'.format(f_val_ac[0]))\n",
    "print('Kesimpulan: Terdapat perbedaan pengaruh jumlah kasus aktifnya berdasarkan wilayah')\n",
    "\n",
    "#Tes ANOVA deaths_%\n",
    "f_val_d, p_val_d = ss.f_oneway(gb[[\"deaths_%\"]].get_group(\"Africa\")\n",
    "                           ,gb[[\"deaths_%\"]].get_group(\"Arab States\")\n",
    "                           ,gb[[\"deaths_%\"]].get_group(\"Asia & Pacific\")\n",
    "                           ,gb[[\"deaths_%\"]].get_group(\"Europe\")\n",
    "                           ,gb[[\"deaths_%\"]].get_group(\"Middle east\")\n",
    "                           ,gb[[\"deaths_%\"]].get_group(\"North America\")\n",
    "                           ,gb[[\"deaths_%\"]].get_group(\"South/Latin America\"))\n",
    "print('F value for deaths: {:.3f}'.format(f_val_d[0]))\n",
    "print('Kesimpulan: Terdapat perbedaan pengaruh jumlah kematiannya berdasarkan wilayah')\n",
    "\n",
    "#Tes ANOVA recovered_%\n",
    "f_val_r, p_val_r = ss.f_oneway(gb[[\"recovered_%\"]].get_group(\"Africa\")\n",
    "                           ,gb[[\"recovered_%\"]].get_group(\"Arab States\")\n",
    "                           ,gb[[\"recovered_%\"]].get_group(\"Asia & Pacific\")\n",
    "                           ,gb[[\"recovered_%\"]].get_group(\"Europe\")\n",
    "                           ,gb[[\"recovered_%\"]].get_group(\"Middle east\")\n",
    "                           ,gb[[\"recovered_%\"]].get_group(\"North America\")\n",
    "                           ,gb[[\"recovered_%\"]].get_group(\"South/Latin America\"))\n",
    "print('F value for recovered: {:.3f}'.format(f_val_r[0]))\n",
    "print('Kesimpulan: Terdapat perbedaan pengaruh jumlah recoverynya berdasarkan wilayah')\n"
   ]
  },
  {
   "cell_type": "markdown",
   "metadata": {},
   "source": [
    "#### 7. Dengan asumsi syarat melakukan independent t-test terpenuhi, lakukan independent t-test untuk menguji adanya hubungan antara kelompok iklim dan data 'active_case_%', 'deaths_%', dan 'recovered_%' (3 INDEPENDENT T-TEST YANG BERBEDA) pada 'df_last'. Tuliskan kesimpulan dari hasil tesnya."
   ]
  },
  {
   "cell_type": "code",
   "execution_count": null,
   "metadata": {},
   "outputs": [],
   "source": [
    "#Tes ANOVA active_case_%\n",
    "print('T table: {:.3f}'.format(ss.t.ppf(1-0.025, len(df_last)-df_last.nunique()[\"climate\"])))\n",
    "gb = df_last.groupby(\"climate\")\n",
    "f_val_ac, p_val_ac = ss.ttest_ind(gb[[\"active_case_%\"]].get_group(\"tropic\")\n",
    "                           ,gb[[\"active_case_%\"]].get_group(\"nontropic\"))\n",
    "print('T Value for active case: {:.3f}'.format(f_val_ac[0]))\n",
    "print('Kesimpulan: Perbedaan iklim berpengaruh signifikan pada variabel kasus aktif')\n",
    "\n",
    "#Tes ANOVA deaths_%\n",
    "f_val_d, p_val_d = ss.ttest_ind(gb[[\"deaths_%\"]].get_group(\"tropic\")\n",
    "                           ,gb[[\"deaths_%\"]].get_group(\"nontropic\"))\n",
    "print('T value for deaths: {:.3f}'.format(f_val_d[0]))\n",
    "print('Kesimpulan: Perbedaan iklim berpengaruh signifikan pada variabel kematian')\n",
    "\n",
    "#Tes ANOVA recovered_%\n",
    "f_val_r, p_val_r = ss.ttest_ind(gb[[\"recovered_%\"]].get_group(\"tropic\")\n",
    "                           ,gb[[\"recovered_%\"]].get_group(\"nontropic\"))\n",
    "print('T value for recovered: {:.3f}'.format(f_val_r[0]))\n",
    "print('Kesimpulan: Perbedaan iklim berpengaruh signifikan pada variabel recovery')"
   ]
  },
  {
   "cell_type": "markdown",
   "metadata": {},
   "source": [
    "#### 8. Buat kolom 'safety' pada 'df_last'. Apabila data suatu negara memenuhi 'active_case_%' < 10, 'deaths_%' < 5, 'recovered_%' > 85 labeli negara ini dengan 'safe' pada kolom 'safety'. Apabila tidak memenuhi kriteria, labeli dengan 'not_safe'. Berapa negara yang masuk kategori 'safe'? Berapa negara yang masuk kategori 'not_safe'?"
   ]
  },
  {
   "cell_type": "code",
   "execution_count": null,
   "metadata": {},
   "outputs": [],
   "source": [
    "X_new=np.array([[1000,30,200],\n",
    "       [2000,40,400],\n",
    "       [50,1,2]])\n",
    "safetyCol = []\n",
    "for x in df_last.index:\n",
    "    safetyCol.append(\"safe\") if ((df_last.loc[x,'active_case_%'] < 10) and (df_last.loc[x,'deaths_%'] < 5) and (df_last.loc[x,'recovered_%'] > 85)) else safetyCol.append(\"not_safe\")\n",
    "df_last['safety'] = safetyCol\n",
    "\n",
    "print(\"Jumlah negara dengan kategori safe\",df_last.safety.value_counts().loc[\"not_safe\"])\n",
    "print(\"Jumlah negara dengan kategori not-safe\",df_last.safety.value_counts().loc[\"safe\"])"
   ]
  },
  {
   "cell_type": "markdown",
   "metadata": {},
   "source": [
    "#### 9. a. Buat DataFrame baru dengan yang mengeksklusi data Indonesia, US, Brazil, New Zealand, Singapore dari 'df_last'. Buatlah classifier model untuk memprediksi kategori 'safety' pada DataFrame yang baru dibuat. Tampilkan nilai performance dari model yang Anda buat.\n",
    "\n",
    "#### b. Gunakan model classifier yang Anda buat untuk melabeli kategory 'safety' pada data Indonesia, US, Brazil, New Zealand, Singapore dari 'df_last'. Apa label 'safety' yang diprediksi oleh model Anda untuk masing-masing negara tersebut? Apakah hasil prediksi model Anda sesuai dengan kriteria safety pada nomor 8? Apabila tidak, faktor apa yang mempengaruhinya?"
   ]
  },
  {
   "cell_type": "code",
   "execution_count": null,
   "metadata": {},
   "outputs": [],
   "source": [
    "X_new=np.array([[1000,30,200],\n",
    "       [2000,40,400],\n",
    "       [50,1,2]])\n",
    "print('a.')\n",
    "df_train = df_last.loc[(df_last['country'] == \"Indonesia\") |\n",
    "                    (df_last['country'] == \"US\") |\n",
    "                    (df_last['country'] == \"Brazil\") |\n",
    "                    (df_last['country'] == \"New Zealand\") |\n",
    "                    (df_last['country'] == \"Singapore\") ]\n",
    "from sklearn.linear_model import LogisticRegression\n",
    "from sklearn.metrics import accuracy_score\n",
    "\n",
    "X_train = df_train[['active_case_%','deaths_%','recovered_%']]\n",
    "y_train = df_train['safety']\n",
    "logreg = LogisticRegression()\n",
    "logreg.fit(X_train, y_train)\n",
    "\n",
    "y_pred = logreg.predict(df_last[['active_case_%','deaths_%','recovered_%']])\n",
    "score =accuracy_score(df_last['safety'],y_pred)\n",
    "print(\"Nilai performance dari modelnya adalah\",score)\n",
    "\n",
    "print(\"b.\")\n",
    "df_safety_certain_country = df_last.loc[(df_last['country'] == \"Indonesia\") |\n",
    "                                     (df_last['country'] == \"US\") |\n",
    "                                     (df_last['country'] == \"Brazil\") |\n",
    "                                     (df_last['country'] == \"New Zealand\") |\n",
    "                                     (df_last['country'] == \"Singapore\") ].filter([\"country\",'active_case_%','deaths_%','recovered_%',\"safety\"])\n",
    "df_safety_certain_country[\"safety_pred\"] = logreg.predict(df_safety_certain_country[['active_case_%','deaths_%','recovered_%']])\n",
    "print(df_safety_certain_country)\n",
    "print(\"Hasil prediksi model sesuai dengan kriteria safety pada nomor 8\")"
   ]
  },
  {
   "cell_type": "markdown",
   "metadata": {},
   "source": [
    "#### 10. Buatlah model regresi untuk data 'active_case_%' di US pada 'df_last'. Plot model regresi ini bersama data aslinya dalam satu graph. Hitung nilai performance dari model regresi yang Anda buat."
   ]
  },
  {
   "cell_type": "code",
   "execution_count": null,
   "metadata": {
    "scrolled": true
   },
   "outputs": [],
   "source": [
    "#Record data \"active_case_\" di US pada 'df_last' hanya 1"
   ]
  },
  {
   "cell_type": "markdown",
   "metadata": {},
   "source": [
    "#### 11. a. Buatlah clustering model dengan jumlah cluster sebanyak 5 (cluster 0-4) untuk array 'Z'. Sebutkan prediksi nomor cluster berdasarkan data 'active_case_%', 'deaths_%', dan 'recovered_%' pada 'df_last' untuk negara:\n",
    "##### i. Indonesia\n",
    "##### ii. Singapore\n",
    "##### iii. US\n",
    "##### iv. Italy\n",
    "##### v. Iran\n",
    "#### b. Buat plot 3D dari clustering model yang Anda buat."
   ]
  },
  {
   "cell_type": "code",
   "execution_count": null,
   "metadata": {},
   "outputs": [],
   "source": [
    "Z=df_last.loc[:,['active_case_%', 'deaths_%', 'recovered_%']].values\n",
    "\n",
    "from mpl_toolkits.mplot3d import Axes3D\n",
    "from sklearn.cluster import KMeans\n",
    "\n",
    "\n",
    "data = np.array(Z)\n",
    "\n",
    "model = KMeans(n_clusters=5)\n",
    "model.fit_predict(data)\n",
    "pred = model.fit_predict(data)\n",
    "\n",
    "fig = plt.figure()\n",
    "ax = Axes3D(fig)\n",
    "ax.scatter(data[:,0], data[:,1], data[:,2], c=model.labels_, s=300)\n",
    "plt.show()\n",
    "\n",
    "print(\"Predicted cluster for Indonesia is:\",model.predict(np.array(df_last.loc[(df_last['country'] == \"Indonesia\")][['active_case_%','deaths_%','recovered_%']]))[0])\n",
    "print(\"Predicted cluster for Singapore is:\",model.predict(np.array(df_last.loc[(df_last['country'] == \"Singapore\")][['active_case_%','deaths_%','recovered_%']]))[0])\n",
    "print(\"Predicted cluster for US is:\",model.predict(np.array(df_last.loc[(df_last['country'] == \"US\")][['active_case_%','deaths_%','recovered_%']]))[0])\n",
    "print(\"Predicted cluster for Italy is:\",model.predict(np.array(df_last.loc[(df_last['country'] == \"Italy\")][['active_case_%','deaths_%','recovered_%']]))[0])\n",
    "print(\"Predicted cluster for Iran is:\",model.predict(np.array(df_last.loc[(df_last['country'] == \"Iran\")][['active_case_%','deaths_%','recovered_%']]))[0])"
   ]
  },
  {
   "cell_type": "markdown",
   "metadata": {},
   "source": [
    "#### 12. (Optional) Tampilkan grafik-grafik yang Anda buat dalam bentuk dashboard menggunakan Dash by Plotly. "
   ]
  },
  {
   "cell_type": "code",
   "execution_count": null,
   "metadata": {},
   "outputs": [],
   "source": []
  }
 ],
 "metadata": {
  "kernelspec": {
   "display_name": "Python 3",
   "language": "python",
   "name": "python3"
  },
  "language_info": {
   "codemirror_mode": {
    "name": "ipython",
    "version": 3
   },
   "file_extension": ".py",
   "mimetype": "text/x-python",
   "name": "python",
   "nbconvert_exporter": "python",
   "pygments_lexer": "ipython3",
   "version": "3.8.8"
  }
 },
 "nbformat": 4,
 "nbformat_minor": 4
}
